{
 "cells": [
  {
   "cell_type": "code",
   "execution_count": 1,
   "metadata": {},
   "outputs": [],
   "source": [
    "class Multiplefunction():\n",
    "    def subfields():\n",
    "        lists=[\"machine learning\",\"neural netwok\",\"vision\",\"robotics\",\"speech processing\",\"natural language processing\"]\n",
    "        print(\"sub fields in AI are:\")\n",
    "        for subfields in lists:\n",
    "            print(subfields)\n",
    "            message=\"subfields\"\n",
    "        return message\n",
    "        "
   ]
  },
  {
   "cell_type": "code",
   "execution_count": 3,
   "metadata": {},
   "outputs": [
    {
     "name": "stdout",
     "output_type": "stream",
     "text": [
      "sub fields in AI are:\n",
      "machine learning\n",
      "neural netwok\n",
      "vision\n",
      "robotics\n",
      "speech processing\n",
      "natural language processing\n"
     ]
    },
    {
     "data": {
      "text/plain": [
       "'subfields'"
      ]
     },
     "execution_count": 3,
     "metadata": {},
     "output_type": "execute_result"
    }
   ],
   "source": [
    " Multiplefunction.subfields()"
   ]
  },
  {
   "cell_type": "code",
   "execution_count": 4,
   "metadata": {},
   "outputs": [],
   "source": [
    "class Multiplefunction():\n",
    "    def oddeven():\n",
    "        num=int(input(\"enter the number:\"))\n",
    "        if(num%2==0):\n",
    "            print(\"even number\")\n",
    "            message=\"even number\"\n",
    "        else:\n",
    "            print(\"odd number\")\n",
    "            message=\"odd number\"\n",
    "        return message"
   ]
  },
  {
   "cell_type": "code",
   "execution_count": 6,
   "metadata": {},
   "outputs": [
    {
     "name": "stdout",
     "output_type": "stream",
     "text": [
      "enter the number:52452\n",
      "even number\n"
     ]
    },
    {
     "data": {
      "text/plain": [
       "'even number'"
      ]
     },
     "execution_count": 6,
     "metadata": {},
     "output_type": "execute_result"
    }
   ],
   "source": [
    "Multiplefunction.oddeven()"
   ]
  },
  {
   "cell_type": "code",
   "execution_count": 7,
   "metadata": {},
   "outputs": [],
   "source": [
    "class Multiplefunction():\n",
    "    def Elegblityformarriage():\n",
    "        Gender=input(\"Enter your gender:\")\n",
    "        age=int(input(\"Enter your age:\"))\n",
    "        if((age>=21 )):\n",
    "            print(\"Elegible\")\n",
    "            message=\"Elegbible\"\n",
    "        else:       \n",
    "            print(\"not Elegible\")\n",
    "            message=\"not Elegbible\"\n",
    "        return message"
   ]
  },
  {
   "cell_type": "code",
   "execution_count": 9,
   "metadata": {},
   "outputs": [
    {
     "name": "stdout",
     "output_type": "stream",
     "text": [
      "Enter your gender:male\n",
      "Enter your age:18\n",
      "not Elegible\n"
     ]
    },
    {
     "data": {
      "text/plain": [
       "'not Elegbible'"
      ]
     },
     "execution_count": 9,
     "metadata": {},
     "output_type": "execute_result"
    }
   ],
   "source": [
    "Multiplefunction.Elegblityformarriage()"
   ]
  },
  {
   "cell_type": "code",
   "execution_count": 10,
   "metadata": {},
   "outputs": [],
   "source": [
    "class Multiplefunction():\n",
    "    def findpercentage():\n",
    "        num1=int(input(\"subject1:\"))\n",
    "        num2=int(input(\"subject2:\"))\n",
    "        num3=int(input(\"subject3:\"))\n",
    "        num4=int(input(\"subject4:\"))\n",
    "        num5=int(input(\"subject5:\"))\n",
    "        total=num1+num2+num3+num4+num5\n",
    "        percentage=(total)/5\n",
    "        print(\"total:\",total)\n",
    "        print(\"percentage:\",percentage)"
   ]
  },
  {
   "cell_type": "code",
   "execution_count": 11,
   "metadata": {},
   "outputs": [
    {
     "name": "stdout",
     "output_type": "stream",
     "text": [
      "subject1:98\n",
      "subject2:87\n",
      "subject3:95\n",
      "subject4:95\n",
      "subject5:93\n",
      "total: 468\n",
      "percentage: 93.6\n"
     ]
    }
   ],
   "source": [
    "Multiplefunction.findpercentage()"
   ]
  },
  {
   "cell_type": "code",
   "execution_count": 12,
   "metadata": {},
   "outputs": [],
   "source": [
    "class Multiplefunction():\n",
    "    def Triange():\n",
    "        Height=int(input(\"Height:\"))\n",
    "        Breadth=int(input(\"Breadth:\"))\n",
    "        AreaofTriangle=(Height*Breadth)/2\n",
    "        print(\"AreaofTriangle:\",AreaofTriangle)\n",
    "        Height1=int(input(\"Height1:\"))\n",
    "        Height2=int(input(\"Height2:\"))\n",
    "        Breadth=int(input(\"Breadth:\"))\n",
    "        PerimeterofTriangle=Height1+Height2+Breadth\n",
    "        print(\"PerimeterofTriangle:\",PerimeterofTriangle)\n"
   ]
  },
  {
   "cell_type": "code",
   "execution_count": 13,
   "metadata": {},
   "outputs": [
    {
     "name": "stdout",
     "output_type": "stream",
     "text": [
      "Height:32\n",
      "Breadth:34\n",
      "AreaofTriangle: 544.0\n",
      "Height1:2\n",
      "Height2:4\n",
      "Breadth:4\n",
      "PerimeterofTriangle: 10\n"
     ]
    }
   ],
   "source": [
    "Multiplefunction.Triange()"
   ]
  },
  {
   "cell_type": "code",
   "execution_count": null,
   "metadata": {},
   "outputs": [],
   "source": [
    "\n",
    "    "
   ]
  }
 ],
 "metadata": {
  "kernelspec": {
   "display_name": "Python 3",
   "language": "python",
   "name": "python3"
  },
  "language_info": {
   "codemirror_mode": {
    "name": "ipython",
    "version": 3
   },
   "file_extension": ".py",
   "mimetype": "text/x-python",
   "name": "python",
   "nbconvert_exporter": "python",
   "pygments_lexer": "ipython3",
   "version": "3.7.4"
  }
 },
 "nbformat": 4,
 "nbformat_minor": 2
}
